{
 "cells": [
  {
   "cell_type": "markdown",
   "id": "a7b7529a-a258-497f-834a-b562ad888c39",
   "metadata": {},
   "source": [
    "# **Programming for Data Analysis**\n",
    "---\n",
    "\n",
    "**Author: Damien Farrell**\n",
    "\n",
    "---"
   ]
  },
  {
   "cell_type": "markdown",
   "id": "577180cf-3895-48e6-b592-ae9d29ae0013",
   "metadata": {},
   "source": [
    "## Project 1:\n",
    "## Simulation of House Prices in Ireland"
   ]
  },
  {
   "cell_type": "code",
   "execution_count": 4,
   "id": "d8b11042-b30f-4c43-9331-d57bce9e23e8",
   "metadata": {},
   "outputs": [],
   "source": [
    "import pandas as pd\n",
    "import numpy as np\n",
    "import matplotlib.pyplot as plt\n",
    "import seaborn as sns\n",
    "from scipy import stats"
   ]
  },
  {
   "cell_type": "markdown",
   "id": "9566ec79-01bd-4cb2-84da-6e64fd4b3625",
   "metadata": {},
   "source": [
    "### **Introduction**\n",
    "For this data analytics project, I have chosen to simulate a dataset related to house prices in Ireland."
   ]
  },
  {
   "cell_type": "markdown",
   "id": "ee2c28c0-68da-4a3a-8a66-1d22d19fbb43",
   "metadata": {},
   "source": [
    "### **Variables**\n",
    "\n",
    "**House Price:**\n",
    "\n",
    "The dependent variable representing the market value of a house. This will be a continuous variable with a positive real number format.\n",
    "\n",
    "**House Size:**\n",
    "\n",
    "The size of the house in meters squared. This will be a non-negative real floating point number.\n",
    "\n",
    "**Number of Bedrooms:**\n",
    "\n",
    "The count of bedrooms in a house. This will be a non-negative integer.\n",
    "\n",
    "**Location:**\n",
    "\n",
    "Geographic variable representing the location of the house."
   ]
  },
  {
   "cell_type": "markdown",
   "id": "809f55f8-6e6c-45c7-9ace-815a7bbc7077",
   "metadata": {},
   "source": [
    "### **Data Generation**\n",
    "\n",
    "**House Price:**\n",
    "\n",
    "Simulate house prices using a normal distribution. Research on local housing markets can provide insights into the mean and standard deviation for generating realistic price data.\n",
    "\n",
    "**House Size:**\n",
    "\n",
    "Simulate house size using a normal distribution.\n",
    "\n",
    "**Number of Bedrooms:**\n",
    "\n",
    "Simulate the number of bedrooms using a discrete distribution. Research on typical bedroom counts in houses can guide the distribution.\n",
    "\n",
    "**Location**\n",
    "\n",
    "Generate an eircode as categorical variable representing the geographic location of the house."
   ]
  },
  {
   "cell_type": "markdown",
   "id": "a4bef255-490b-4e9c-8e9c-72a4eb968578",
   "metadata": {},
   "source": [
    "### **Relationships**\n",
    "\n",
    "**Correlation between House Price and House Size:**\n",
    "\n",
    "Simulate a positive correlation between house price and house size, as larger houses generally tend to have higher prices.\n",
    "\n",
    "**Influence of Number of Bedrooms:**\n",
    "\n",
    "Simulate an influence of the number of bedrooms on house price. Larger houses with more bedrooms should have higher prices.\n",
    "\n",
    "**Geographic Location Impact:**\n",
    "\n",
    "Introduce a relationship between geographic location and house price. Certain geographic areas may positively or negatively influence house prices."
   ]
  },
  {
   "cell_type": "code",
   "execution_count": null,
   "id": "3a4ad661-de16-4c52-98b8-2169c69b994d",
   "metadata": {},
   "outputs": [],
   "source": []
  },
  {
   "cell_type": "code",
   "execution_count": null,
   "id": "d0f3548f-a523-495a-94aa-93c77576f8f9",
   "metadata": {},
   "outputs": [],
   "source": []
  },
  {
   "cell_type": "code",
   "execution_count": null,
   "id": "ebf07fa3-f6c3-44d0-b0e9-b37fa2ff8d86",
   "metadata": {},
   "outputs": [],
   "source": []
  },
  {
   "cell_type": "markdown",
   "id": "8176a525-787f-4b68-81b8-eba26da1020f",
   "metadata": {},
   "source": [
    "\n",
    "https://www.spcforexcel.com/knowledge/basic-statistics/deciding-which-distribution-fits-your-data-best/\n",
    "\n",
    "\n",
    "https://statisticsbyjim.com/hypothesis-testing/identify-distribution-data/\n",
    "https://statisticsbyjim.com/basics/goodness-of-fit/\n",
    "https://statisticsbyjim.com/basics/skewed-distribution/\n",
    "\n",
    "https://docs.scipy.org/doc/scipy/reference/stats.html\n",
    "\n",
    "Note that this example covers continuous data. For categorical and discrete variables, you should use the chi-square goodness of fit test.\n",
    "\n",
    "https://statisticsbyjim.com/hypothesis-testing/chi-square-goodness-of-fit-test/\n",
    "\n",
    "\n",
    "\n",
    "https://archive.ph/20230811082152/https://towardsdatascience.com/how-to-find-the-best-theoretical-distribution-for-your-data-a26e5673b4bd#selection-643.182-653.170\n",
    "\n",
    "https://www.datacamp.com/tutorial/probability-distributions-python\n",
    "\n",
    "https://www.analyticsvidhya.com/blog/2021/09/q-q-plot-ensure-your-ml-model-is-based-on-the-right-distributions/https://archive.ph/20221125141253/https://towardsdatascience.com/understand-q-q-plot-using-simple-python-4f83d5b89f8f#selection-965.3-979.30\n",
    "\n",
    "https://numpy.org/doc/1.16/reference/routines.random.html\n",
    "\n",
    "https://stackoverflow.com/questions/45579525/returning-a-dataframe-in-python-function\n",
    "\n",
    "https://www.geeksforgeeks.org/multi-plot-grid-in-seaborn/\n",
    "\n",
    "\n",
    "https://stackoverflow.com/questions/6871201/plot-two-histograms-on-single-chart\n",
    "\n",
    "\n",
    "https://stackoverflow.com/questions/69141790/seaborn-reg-plots-with-the-same-y-axis-scale-side-by-side\n",
    "\n",
    "\n",
    "Right Skewed. The mean overestimates the most common values in a positively skewed distribution.\n",
    "\n",
    "Using a QQ Plot to determine if the dristribution follows a probability distribution...?\n",
    "\n",
    "https://docs.scipy.org/doc/scipy/tutorial/stats/continuous_gumbel_l.html\n",
    "\n",
    "***Add more references and sort them out.***"
   ]
  },
  {
   "cell_type": "code",
   "execution_count": null,
   "id": "eecb21e2-179a-4c0d-bf65-59f880bedcc0",
   "metadata": {},
   "outputs": [],
   "source": []
  },
  {
   "cell_type": "markdown",
   "id": "62936a06-013f-4228-a90f-35f1f5689c51",
   "metadata": {},
   "source": [
    "***\n",
    "# End"
   ]
  }
 ],
 "metadata": {
  "kernelspec": {
   "display_name": "Python 3 (ipykernel)",
   "language": "python",
   "name": "python3"
  },
  "language_info": {
   "codemirror_mode": {
    "name": "ipython",
    "version": 3
   },
   "file_extension": ".py",
   "mimetype": "text/x-python",
   "name": "python",
   "nbconvert_exporter": "python",
   "pygments_lexer": "ipython3",
   "version": "3.9.5"
  }
 },
 "nbformat": 4,
 "nbformat_minor": 5
}
