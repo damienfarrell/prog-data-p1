{
 "cells": [
  {
   "cell_type": "markdown",
   "id": "a7b7529a-a258-497f-834a-b562ad888c39",
   "metadata": {},
   "source": [
    "# Programming for Data Analysis\n",
    "\n",
    "---\n",
    "\n",
    "**Author: Damien Farrell**\n",
    "\n",
    "---"
   ]
  },
  {
   "cell_type": "code",
   "execution_count": 2,
   "id": "d8b11042-b30f-4c43-9331-d57bce9e23e8",
   "metadata": {},
   "outputs": [],
   "source": [
    "import pandas as pd\n",
    "import numpy as np\n",
    "import matplotlib.pyplot as plt\n",
    "import seaborn as sns\n",
    "from scipy import stats"
   ]
  },
  {
   "cell_type": "markdown",
   "id": "8176a525-787f-4b68-81b8-eba26da1020f",
   "metadata": {},
   "source": [
    "\n",
    "https://www.spcforexcel.com/knowledge/basic-statistics/deciding-which-distribution-fits-your-data-best/\n",
    "\n",
    "\n",
    "https://statisticsbyjim.com/hypothesis-testing/identify-distribution-data/\n",
    "https://statisticsbyjim.com/basics/goodness-of-fit/\n",
    "https://statisticsbyjim.com/basics/skewed-distribution/\n",
    "\n",
    "https://docs.scipy.org/doc/scipy/reference/stats.html\n",
    "\n",
    "Note that this example covers continuous data. For categorical and discrete variables, you should use the chi-square goodness of fit test.\n",
    "\n",
    "https://statisticsbyjim.com/hypothesis-testing/chi-square-goodness-of-fit-test/\n",
    "\n",
    "\n",
    "\n",
    "https://archive.ph/20230811082152/https://towardsdatascience.com/how-to-find-the-best-theoretical-distribution-for-your-data-a26e5673b4bd#selection-643.182-653.170\n",
    "\n",
    "https://www.datacamp.com/tutorial/probability-distributions-python\n",
    "\n",
    "https://www.analyticsvidhya.com/blog/2021/09/q-q-plot-ensure-your-ml-model-is-based-on-the-right-distributions/https://archive.ph/20221125141253/https://towardsdatascience.com/understand-q-q-plot-using-simple-python-4f83d5b89f8f#selection-965.3-979.30\n",
    "\n",
    "https://numpy.org/doc/1.16/reference/routines.random.html\n",
    "\n",
    "https://stackoverflow.com/questions/45579525/returning-a-dataframe-in-python-function\n",
    "\n",
    "https://www.geeksforgeeks.org/multi-plot-grid-in-seaborn/\n",
    "\n",
    "\n",
    "https://stackoverflow.com/questions/6871201/plot-two-histograms-on-single-chart\n",
    "\n",
    "\n",
    "https://stackoverflow.com/questions/69141790/seaborn-reg-plots-with-the-same-y-axis-scale-side-by-side\n",
    "\n",
    "\n",
    "Right Skewed. The mean overestimates the most common values in a positively skewed distribution.\n",
    "\n",
    "Using a QQ Plot to determine if the dristribution follows a probability distribution...?\n",
    "\n",
    "https://docs.scipy.org/doc/scipy/tutorial/stats/continuous_gumbel_l.html\n",
    "\n",
    "***Add more references and sort them out.***"
   ]
  },
  {
   "cell_type": "code",
   "execution_count": null,
   "id": "eecb21e2-179a-4c0d-bf65-59f880bedcc0",
   "metadata": {},
   "outputs": [],
   "source": []
  },
  {
   "cell_type": "markdown",
   "id": "62936a06-013f-4228-a90f-35f1f5689c51",
   "metadata": {},
   "source": [
    "***\n",
    "# End"
   ]
  }
 ],
 "metadata": {
  "kernelspec": {
   "display_name": "Python 3 (ipykernel)",
   "language": "python",
   "name": "python3"
  },
  "language_info": {
   "codemirror_mode": {
    "name": "ipython",
    "version": 3
   },
   "file_extension": ".py",
   "mimetype": "text/x-python",
   "name": "python",
   "nbconvert_exporter": "python",
   "pygments_lexer": "ipython3",
   "version": "3.9.5"
  }
 },
 "nbformat": 4,
 "nbformat_minor": 5
}
